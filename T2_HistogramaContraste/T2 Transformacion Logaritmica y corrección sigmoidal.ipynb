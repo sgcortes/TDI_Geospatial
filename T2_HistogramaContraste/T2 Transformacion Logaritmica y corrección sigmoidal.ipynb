{
 "cells": [
  {
   "cell_type": "markdown",
   "metadata": {},
   "source": [
    "<table style=\"width:100%\">\n",
    "  <tr>\n",
    "    <th> <img src=\".\\..\\img\\logo_EPM_UNIOVI_CabeceroWEB.gif\" alt=\"Uniovi & EP Mieres logos\" title=\"Uniovi & EP Mieres logos\" /></th>\n",
    "    <th><font color=brown>Procesamiento de imágenes de Sensores Aerotransportados y Satélite</font>\n",
    "         </font></th> \n",
    "    <th><font color=green>Universidad de Oviedo.                      Ingeniería en Geomática</font>         sgcortes@uniovi.es</th>\n",
    "  </tr>\n",
    "</table>"
   ]
  },
  {
   "cell_type": "code",
   "execution_count": null,
   "metadata": {},
   "outputs": [],
   "source": []
  }
 ],
 "metadata": {
  "kernelspec": {
   "display_name": "Python 3",
   "language": "python",
   "name": "python3"
  },
  "language_info": {
   "codemirror_mode": {
    "name": "ipython",
    "version": 3
   },
   "file_extension": ".py",
   "mimetype": "text/x-python",
   "name": "python",
   "nbconvert_exporter": "python",
   "pygments_lexer": "ipython3",
   "version": "3.5.5"
  }
 },
 "nbformat": 4,
 "nbformat_minor": 2
}
